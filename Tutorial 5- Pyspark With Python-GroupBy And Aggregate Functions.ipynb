{
  "cells": [
    {
      "cell_type": "markdown",
      "metadata": {
        "id": "view-in-github",
        "colab_type": "text"
      },
      "source": [
        "<a href=\"https://colab.research.google.com/github/Tamilarasee/Pyspark/blob/main/Tutorial%205-%20Pyspark%20With%20Python-GroupBy%20And%20Aggregate%20Functions.ipynb\" target=\"_parent\"><img src=\"https://colab.research.google.com/assets/colab-badge.svg\" alt=\"Open In Colab\"/></a>"
      ]
    },
    {
      "cell_type": "markdown",
      "id": "2efa0fce",
      "metadata": {
        "id": "2efa0fce"
      },
      "source": [
        "### Pyspark GroupBy And Aggregate Functions"
      ]
    },
    {
      "cell_type": "code",
      "execution_count": 6,
      "id": "8f336300",
      "metadata": {
        "id": "8f336300"
      },
      "outputs": [],
      "source": [
        "from pyspark.sql import SparkSession"
      ]
    },
    {
      "cell_type": "code",
      "execution_count": 7,
      "id": "23513a5d",
      "metadata": {
        "id": "23513a5d"
      },
      "outputs": [],
      "source": [
        "spark=SparkSession.builder.appName('Agg').getOrCreate()"
      ]
    },
    {
      "cell_type": "code",
      "execution_count": 8,
      "id": "248b3a5c",
      "metadata": {
        "id": "248b3a5c",
        "outputId": "e9488864-90f8-4237-c45d-863844ffc4b1",
        "colab": {
          "base_uri": "https://localhost:8080/",
          "height": 219
        }
      },
      "outputs": [
        {
          "output_type": "execute_result",
          "data": {
            "text/plain": [
              "<pyspark.sql.session.SparkSession at 0x78afa1ccbdd0>"
            ],
            "text/html": [
              "\n",
              "            <div>\n",
              "                <p><b>SparkSession - in-memory</b></p>\n",
              "                \n",
              "        <div>\n",
              "            <p><b>SparkContext</b></p>\n",
              "\n",
              "            <p><a href=\"http://d02d9da97e94:4040\">Spark UI</a></p>\n",
              "\n",
              "            <dl>\n",
              "              <dt>Version</dt>\n",
              "                <dd><code>v3.5.1</code></dd>\n",
              "              <dt>Master</dt>\n",
              "                <dd><code>local[*]</code></dd>\n",
              "              <dt>AppName</dt>\n",
              "                <dd><code>Agg</code></dd>\n",
              "            </dl>\n",
              "        </div>\n",
              "        \n",
              "            </div>\n",
              "        "
            ]
          },
          "metadata": {},
          "execution_count": 8
        }
      ],
      "source": [
        "spark"
      ]
    },
    {
      "cell_type": "code",
      "execution_count": 9,
      "id": "4d3bd081",
      "metadata": {
        "id": "4d3bd081"
      },
      "outputs": [],
      "source": [
        "df_pyspark=spark.read.csv('test3.csv',header=True,inferSchema=True)"
      ]
    },
    {
      "cell_type": "code",
      "execution_count": 10,
      "id": "7ed791ed",
      "metadata": {
        "id": "7ed791ed",
        "outputId": "29c42162-93ba-4614-cd82-3ec5a23e85dd",
        "colab": {
          "base_uri": "https://localhost:8080/"
        }
      },
      "outputs": [
        {
          "output_type": "stream",
          "name": "stdout",
          "text": [
            "+---------+------------+------+\n",
            "|     Name| Departments|salary|\n",
            "+---------+------------+------+\n",
            "|    Krish|Data Science| 10000|\n",
            "|    Krish|         IOT|  5000|\n",
            "|   Mahesh|    Big Data|  4000|\n",
            "|    Krish|    Big Data|  4000|\n",
            "|   Mahesh|Data Science|  3000|\n",
            "|Sudhanshu|Data Science| 20000|\n",
            "|Sudhanshu|         IOT| 10000|\n",
            "|Sudhanshu|    Big Data|  5000|\n",
            "|    Sunny|Data Science| 10000|\n",
            "|    Sunny|    Big Data|  2000|\n",
            "+---------+------------+------+\n",
            "\n"
          ]
        }
      ],
      "source": [
        "df_pyspark.show()"
      ]
    },
    {
      "cell_type": "code",
      "execution_count": 11,
      "id": "d57d24ca",
      "metadata": {
        "id": "d57d24ca",
        "outputId": "cdf27976-81ff-4695-a62e-63dc6e6eb501",
        "colab": {
          "base_uri": "https://localhost:8080/"
        }
      },
      "outputs": [
        {
          "output_type": "stream",
          "name": "stdout",
          "text": [
            "root\n",
            " |-- Name: string (nullable = true)\n",
            " |-- Departments: string (nullable = true)\n",
            " |-- salary: integer (nullable = true)\n",
            "\n"
          ]
        }
      ],
      "source": [
        "df_pyspark.printSchema()"
      ]
    },
    {
      "cell_type": "code",
      "execution_count": 12,
      "id": "f15f8197",
      "metadata": {
        "id": "f15f8197",
        "outputId": "5f47e7fb-06ee-4902-e48b-5c30085c08f6",
        "colab": {
          "base_uri": "https://localhost:8080/"
        }
      },
      "outputs": [
        {
          "output_type": "stream",
          "name": "stdout",
          "text": [
            "+---------+-----------+\n",
            "|     Name|sum(salary)|\n",
            "+---------+-----------+\n",
            "|Sudhanshu|      35000|\n",
            "|    Sunny|      12000|\n",
            "|    Krish|      19000|\n",
            "|   Mahesh|       7000|\n",
            "+---------+-----------+\n",
            "\n"
          ]
        }
      ],
      "source": [
        "## Groupby\n",
        "### Grouped to find the maximum salary\n",
        "df_pyspark.groupBy('Name').sum().show()"
      ]
    },
    {
      "cell_type": "code",
      "source": [
        "# Find the person with maximum total\n",
        "from pyspark.sql.functions import sum, desc\n",
        "result = df_pyspark.groupBy(\"Name\") \\\n",
        "    .agg(sum(\"salary\").alias(\"total_salary\")) \\\n",
        "    .orderBy(desc(\"total_salary\")) \\\n",
        "    .limit(1)\n",
        "\n",
        "# To use in Python (collect to driver)\n",
        "top_row = result.collect()[0]\n",
        "print(top_row['Name'], top_row['total_salary'])\n"
      ],
      "metadata": {
        "id": "VGVxl9i6SEfV",
        "outputId": "8763665c-2faf-473f-8ce5-5aee924ff394",
        "colab": {
          "base_uri": "https://localhost:8080/"
        }
      },
      "id": "VGVxl9i6SEfV",
      "execution_count": 32,
      "outputs": [
        {
          "output_type": "stream",
          "name": "stdout",
          "text": [
            "Sudhanshu 35000\n"
          ]
        }
      ]
    },
    {
      "cell_type": "code",
      "execution_count": 13,
      "id": "fc122ace",
      "metadata": {
        "id": "fc122ace",
        "outputId": "22cf47e7-59cc-49af-ddf5-13fc56839004",
        "colab": {
          "base_uri": "https://localhost:8080/"
        }
      },
      "outputs": [
        {
          "output_type": "stream",
          "name": "stdout",
          "text": [
            "+---------+------------------+\n",
            "|     Name|       avg(salary)|\n",
            "+---------+------------------+\n",
            "|Sudhanshu|11666.666666666666|\n",
            "|    Sunny|            6000.0|\n",
            "|    Krish| 6333.333333333333|\n",
            "|   Mahesh|            3500.0|\n",
            "+---------+------------------+\n",
            "\n"
          ]
        }
      ],
      "source": [
        "df_pyspark.groupBy('Name').avg().show()"
      ]
    },
    {
      "cell_type": "code",
      "execution_count": 14,
      "id": "151d2264",
      "metadata": {
        "id": "151d2264",
        "outputId": "47cf70c6-b094-4a51-a689-08b749355126",
        "colab": {
          "base_uri": "https://localhost:8080/"
        }
      },
      "outputs": [
        {
          "output_type": "stream",
          "name": "stdout",
          "text": [
            "+------------+-----------+\n",
            "| Departments|sum(salary)|\n",
            "+------------+-----------+\n",
            "|         IOT|      15000|\n",
            "|    Big Data|      15000|\n",
            "|Data Science|      43000|\n",
            "+------------+-----------+\n",
            "\n"
          ]
        }
      ],
      "source": [
        "### Groupby Departmernts  which gives maximum salary\n",
        "df_pyspark.groupBy('Departments').sum().show()"
      ]
    },
    {
      "cell_type": "code",
      "source": [],
      "metadata": {
        "id": "NskoQCDQR-pL"
      },
      "id": "NskoQCDQR-pL",
      "execution_count": null,
      "outputs": []
    },
    {
      "cell_type": "code",
      "execution_count": 15,
      "id": "66fe5552",
      "metadata": {
        "id": "66fe5552",
        "outputId": "68109673-eded-40dd-cf66-4cad46bb810e",
        "colab": {
          "base_uri": "https://localhost:8080/"
        }
      },
      "outputs": [
        {
          "output_type": "stream",
          "name": "stdout",
          "text": [
            "+------------+-----------+\n",
            "| Departments|avg(salary)|\n",
            "+------------+-----------+\n",
            "|         IOT|     7500.0|\n",
            "|    Big Data|     3750.0|\n",
            "|Data Science|    10750.0|\n",
            "+------------+-----------+\n",
            "\n"
          ]
        }
      ],
      "source": [
        "df_pyspark.groupBy('Departments').mean().show()"
      ]
    },
    {
      "cell_type": "code",
      "execution_count": 16,
      "id": "bc7bf192",
      "metadata": {
        "id": "bc7bf192",
        "outputId": "3f6db3b0-fc3e-48fb-bc55-a32a1c3f26ca",
        "colab": {
          "base_uri": "https://localhost:8080/"
        }
      },
      "outputs": [
        {
          "output_type": "stream",
          "name": "stdout",
          "text": [
            "+------------+-----+\n",
            "| Departments|count|\n",
            "+------------+-----+\n",
            "|         IOT|    2|\n",
            "|    Big Data|    4|\n",
            "|Data Science|    4|\n",
            "+------------+-----+\n",
            "\n"
          ]
        }
      ],
      "source": [
        "df_pyspark.groupBy('Departments').count().show()"
      ]
    },
    {
      "cell_type": "code",
      "execution_count": 17,
      "id": "37b26cbe",
      "metadata": {
        "id": "37b26cbe",
        "outputId": "b4074df8-c781-4797-d1d0-1ded61803e9d",
        "colab": {
          "base_uri": "https://localhost:8080/"
        }
      },
      "outputs": [
        {
          "output_type": "stream",
          "name": "stdout",
          "text": [
            "+-----------+\n",
            "|sum(Salary)|\n",
            "+-----------+\n",
            "|      73000|\n",
            "+-----------+\n",
            "\n"
          ]
        }
      ],
      "source": [
        "df_pyspark.agg({'Salary':'sum'}).show()"
      ]
    },
    {
      "cell_type": "code",
      "execution_count": 17,
      "id": "bb21f03f",
      "metadata": {
        "id": "bb21f03f"
      },
      "outputs": [],
      "source": []
    },
    {
      "cell_type": "code",
      "execution_count": 17,
      "id": "1c7d8f83",
      "metadata": {
        "id": "1c7d8f83"
      },
      "outputs": [],
      "source": []
    },
    {
      "cell_type": "code",
      "execution_count": 17,
      "id": "9dc7aa65",
      "metadata": {
        "id": "9dc7aa65"
      },
      "outputs": [],
      "source": []
    },
    {
      "cell_type": "code",
      "execution_count": 17,
      "id": "fdd3fbac",
      "metadata": {
        "id": "fdd3fbac"
      },
      "outputs": [],
      "source": []
    },
    {
      "cell_type": "code",
      "execution_count": 17,
      "id": "375a6fda",
      "metadata": {
        "id": "375a6fda"
      },
      "outputs": [],
      "source": []
    },
    {
      "cell_type": "code",
      "execution_count": 17,
      "id": "0aa434e6",
      "metadata": {
        "id": "0aa434e6"
      },
      "outputs": [],
      "source": []
    },
    {
      "cell_type": "code",
      "execution_count": 17,
      "id": "c82781ad",
      "metadata": {
        "id": "c82781ad"
      },
      "outputs": [],
      "source": []
    }
  ],
  "metadata": {
    "kernelspec": {
      "display_name": "Python 3",
      "language": "python",
      "name": "python3"
    },
    "language_info": {
      "codemirror_mode": {
        "name": "ipython",
        "version": 3
      },
      "file_extension": ".py",
      "mimetype": "text/x-python",
      "name": "python",
      "nbconvert_exporter": "python",
      "pygments_lexer": "ipython3",
      "version": "3.7.10"
    },
    "colab": {
      "provenance": [],
      "include_colab_link": true
    }
  },
  "nbformat": 4,
  "nbformat_minor": 5
}