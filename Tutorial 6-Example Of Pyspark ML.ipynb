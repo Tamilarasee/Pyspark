{
  "cells": [
    {
      "cell_type": "markdown",
      "metadata": {
        "id": "view-in-github",
        "colab_type": "text"
      },
      "source": [
        "<a href=\"https://colab.research.google.com/github/Tamilarasee/Pyspark/blob/main/Tutorial%206-Example%20Of%20Pyspark%20ML.ipynb\" target=\"_parent\"><img src=\"https://colab.research.google.com/assets/colab-badge.svg\" alt=\"Open In Colab\"/></a>"
      ]
    },
    {
      "cell_type": "markdown",
      "id": "16da6c54",
      "metadata": {
        "id": "16da6c54"
      },
      "source": [
        "### Examples Of Pyspark ML"
      ]
    },
    {
      "cell_type": "code",
      "execution_count": 7,
      "id": "0b9da3ad",
      "metadata": {
        "id": "0b9da3ad"
      },
      "outputs": [],
      "source": [
        "from pyspark.sql import SparkSession\n",
        "spark=SparkSession.builder.appName('Missing').getOrCreate()"
      ]
    },
    {
      "cell_type": "code",
      "execution_count": 8,
      "id": "735525da",
      "metadata": {
        "id": "735525da"
      },
      "outputs": [],
      "source": [
        "## Read The dataset\n",
        "training = spark.read.csv('test1.csv',header=True,inferSchema=True)"
      ]
    },
    {
      "cell_type": "code",
      "execution_count": 9,
      "id": "d6e038c9",
      "metadata": {
        "id": "d6e038c9",
        "outputId": "ebf9966a-77bb-487b-e31a-26fc2399cd5d",
        "colab": {
          "base_uri": "https://localhost:8080/"
        }
      },
      "outputs": [
        {
          "output_type": "stream",
          "name": "stdout",
          "text": [
            "+---------+---+----------+------+\n",
            "|     Name|age|Experience|Salary|\n",
            "+---------+---+----------+------+\n",
            "|    Krish| 31|        10| 30000|\n",
            "|Sudhanshu| 30|         8| 25000|\n",
            "|    Sunny| 29|         4| 20000|\n",
            "|     Paul| 24|         3| 20000|\n",
            "|   Harsha| 21|         1| 15000|\n",
            "|  Shubham| 23|         2| 18000|\n",
            "+---------+---+----------+------+\n",
            "\n"
          ]
        }
      ],
      "source": [
        "training.show()\n",
        "\n"
      ]
    },
    {
      "cell_type": "code",
      "execution_count": 10,
      "id": "6b3dd5ff",
      "metadata": {
        "id": "6b3dd5ff",
        "outputId": "8829923e-f3cf-4a78-8ca9-ae33a75fa040",
        "colab": {
          "base_uri": "https://localhost:8080/"
        }
      },
      "outputs": [
        {
          "output_type": "stream",
          "name": "stdout",
          "text": [
            "root\n",
            " |-- Name: string (nullable = true)\n",
            " |-- age: integer (nullable = true)\n",
            " |-- Experience: integer (nullable = true)\n",
            " |-- Salary: integer (nullable = true)\n",
            "\n"
          ]
        }
      ],
      "source": [
        "training.printSchema()"
      ]
    },
    {
      "cell_type": "code",
      "execution_count": 11,
      "id": "5d3227e6",
      "metadata": {
        "id": "5d3227e6",
        "outputId": "9127de10-2883-4636-a78c-934af2df990f",
        "colab": {
          "base_uri": "https://localhost:8080/"
        }
      },
      "outputs": [
        {
          "output_type": "execute_result",
          "data": {
            "text/plain": [
              "['Name', 'age', 'Experience', 'Salary']"
            ]
          },
          "metadata": {},
          "execution_count": 11
        }
      ],
      "source": [
        "training.columns"
      ]
    },
    {
      "cell_type": "code",
      "execution_count": 12,
      "id": "cffef5b9",
      "metadata": {
        "id": "cffef5b9"
      },
      "outputs": [],
      "source": [
        "  #[Age,Experience]----> new feature--->independent feature"
      ]
    },
    {
      "cell_type": "code",
      "execution_count": 13,
      "id": "e6273555",
      "metadata": {
        "id": "e6273555"
      },
      "outputs": [],
      "source": [
        "# we create x and y -->independent and dependt feature for splitting and training\n",
        "from pyspark.ml.feature import VectorAssembler\n",
        "featureassembler=VectorAssembler(inputCols=[\"age\",\"Experience\"],outputCol=\"Independent Features\")"
      ]
    },
    {
      "cell_type": "code",
      "execution_count": 14,
      "id": "0b69744c",
      "metadata": {
        "id": "0b69744c"
      },
      "outputs": [],
      "source": [
        "output=featureassembler.transform(training)"
      ]
    },
    {
      "cell_type": "code",
      "execution_count": 15,
      "id": "60961194",
      "metadata": {
        "id": "60961194",
        "outputId": "bc1ddca2-7321-4a09-f319-f7cb0a867f05",
        "colab": {
          "base_uri": "https://localhost:8080/"
        }
      },
      "outputs": [
        {
          "output_type": "stream",
          "name": "stdout",
          "text": [
            "+---------+---+----------+------+--------------------+\n",
            "|     Name|age|Experience|Salary|Independent Features|\n",
            "+---------+---+----------+------+--------------------+\n",
            "|    Krish| 31|        10| 30000|         [31.0,10.0]|\n",
            "|Sudhanshu| 30|         8| 25000|          [30.0,8.0]|\n",
            "|    Sunny| 29|         4| 20000|          [29.0,4.0]|\n",
            "|     Paul| 24|         3| 20000|          [24.0,3.0]|\n",
            "|   Harsha| 21|         1| 15000|          [21.0,1.0]|\n",
            "|  Shubham| 23|         2| 18000|          [23.0,2.0]|\n",
            "+---------+---+----------+------+--------------------+\n",
            "\n"
          ]
        }
      ],
      "source": [
        "output.show()"
      ]
    },
    {
      "cell_type": "code",
      "execution_count": 16,
      "id": "2c27434a",
      "metadata": {
        "id": "2c27434a",
        "outputId": "a341faa4-5790-421b-8376-72c8d85585c8",
        "colab": {
          "base_uri": "https://localhost:8080/"
        }
      },
      "outputs": [
        {
          "output_type": "execute_result",
          "data": {
            "text/plain": [
              "['Name', 'age', 'Experience', 'Salary', 'Independent Features']"
            ]
          },
          "metadata": {},
          "execution_count": 16
        }
      ],
      "source": [
        "output.columns"
      ]
    },
    {
      "cell_type": "code",
      "source": [
        "output.printSchema()"
      ],
      "metadata": {
        "id": "cpQH43ul9v8I",
        "outputId": "8243af9f-a2d5-4014-a2cd-1707238940f7",
        "colab": {
          "base_uri": "https://localhost:8080/"
        }
      },
      "id": "cpQH43ul9v8I",
      "execution_count": 26,
      "outputs": [
        {
          "output_type": "stream",
          "name": "stdout",
          "text": [
            "root\n",
            " |-- Name: string (nullable = true)\n",
            " |-- age: integer (nullable = true)\n",
            " |-- Experience: integer (nullable = true)\n",
            " |-- Salary: integer (nullable = true)\n",
            " |-- Independent Features: vector (nullable = true)\n",
            "\n"
          ]
        }
      ]
    },
    {
      "cell_type": "code",
      "execution_count": 17,
      "id": "54a0ccab",
      "metadata": {
        "id": "54a0ccab"
      },
      "outputs": [],
      "source": [
        "finalized_data=output.select(\"Independent Features\",\"Salary\")"
      ]
    },
    {
      "cell_type": "code",
      "execution_count": 18,
      "id": "f7a73845",
      "metadata": {
        "id": "f7a73845",
        "outputId": "1e258895-0807-4a97-8c40-75c1a22513fd",
        "colab": {
          "base_uri": "https://localhost:8080/"
        }
      },
      "outputs": [
        {
          "output_type": "stream",
          "name": "stdout",
          "text": [
            "+--------------------+------+\n",
            "|Independent Features|Salary|\n",
            "+--------------------+------+\n",
            "|         [31.0,10.0]| 30000|\n",
            "|          [30.0,8.0]| 25000|\n",
            "|          [29.0,4.0]| 20000|\n",
            "|          [24.0,3.0]| 20000|\n",
            "|          [21.0,1.0]| 15000|\n",
            "|          [23.0,2.0]| 18000|\n",
            "+--------------------+------+\n",
            "\n"
          ]
        }
      ],
      "source": [
        "finalized_data.show()"
      ]
    },
    {
      "cell_type": "code",
      "execution_count": 19,
      "id": "0b11192b",
      "metadata": {
        "id": "0b11192b"
      },
      "outputs": [],
      "source": [
        "from pyspark.ml.regression import LinearRegression\n",
        "##train test split\n",
        "train_data,test_data=finalized_data.randomSplit([0.75,0.25])\n",
        "regressor=LinearRegression(featuresCol='Independent Features', labelCol='Salary')\n",
        "regressor=regressor.fit(train_data)"
      ]
    },
    {
      "cell_type": "code",
      "execution_count": 20,
      "id": "fa4ec997",
      "metadata": {
        "id": "fa4ec997",
        "outputId": "e980fde1-0ed5-4d39-ac45-aa15a686a80c",
        "colab": {
          "base_uri": "https://localhost:8080/"
        }
      },
      "outputs": [
        {
          "output_type": "execute_result",
          "data": {
            "text/plain": [
              "DenseVector([28.4757, 1271.3568])"
            ]
          },
          "metadata": {},
          "execution_count": 20
        }
      ],
      "source": [
        "### Coefficients (weights of the features)\n",
        "regressor.coefficients"
      ]
    },
    {
      "cell_type": "code",
      "execution_count": 21,
      "id": "eba911b6",
      "metadata": {
        "id": "eba911b6",
        "outputId": "3b054421-b013-49c6-a12f-2b9d1b047d63",
        "colab": {
          "base_uri": "https://localhost:8080/"
        }
      },
      "outputs": [
        {
          "output_type": "execute_result",
          "data": {
            "text/plain": [
              "14299.83249581293"
            ]
          },
          "metadata": {},
          "execution_count": 21
        }
      ],
      "source": [
        "### Intercepts (bias - the default value when feature weights are zero)\n",
        "regressor.intercept"
      ]
    },
    {
      "cell_type": "code",
      "execution_count": 22,
      "id": "2ba2bc70",
      "metadata": {
        "id": "2ba2bc70"
      },
      "outputs": [],
      "source": [
        "### Prediction\n",
        "pred_results=regressor.evaluate(test_data)\n",
        "\n",
        "#evaluate ----- This method returns a RegressionMetrics object, which contains multiple evaluation results"
      ]
    },
    {
      "cell_type": "code",
      "execution_count": 23,
      "id": "489d6392",
      "metadata": {
        "id": "489d6392",
        "outputId": "fe45d3ff-1b92-4204-f8fb-9b003f3d7320",
        "colab": {
          "base_uri": "https://localhost:8080/"
        }
      },
      "outputs": [
        {
          "output_type": "stream",
          "name": "stdout",
          "text": [
            "+--------------------+------+------------------+\n",
            "|Independent Features|Salary|        prediction|\n",
            "+--------------------+------+------------------+\n",
            "|         [31.0,10.0]| 30000|27896.147403685143|\n",
            "+--------------------+------+------------------+\n",
            "\n"
          ]
        }
      ],
      "source": [
        "pred_results.predictions.show()"
      ]
    },
    {
      "cell_type": "code",
      "execution_count": 24,
      "id": "0534e854",
      "metadata": {
        "id": "0534e854",
        "outputId": "788f020c-37f3-4873-cfb6-af7e9dfb1edd",
        "colab": {
          "base_uri": "https://localhost:8080/"
        }
      },
      "outputs": [
        {
          "output_type": "execute_result",
          "data": {
            "text/plain": [
              "(2103.852596314857, 4426195.747020763)"
            ]
          },
          "metadata": {},
          "execution_count": 24
        }
      ],
      "source": [
        "pred_results.meanAbsoluteError,pred_results.meanSquaredError"
      ]
    },
    {
      "cell_type": "code",
      "execution_count": 24,
      "id": "70de559b",
      "metadata": {
        "id": "70de559b"
      },
      "outputs": [],
      "source": []
    }
  ],
  "metadata": {
    "kernelspec": {
      "display_name": "Python 3",
      "language": "python",
      "name": "python3"
    },
    "language_info": {
      "codemirror_mode": {
        "name": "ipython",
        "version": 3
      },
      "file_extension": ".py",
      "mimetype": "text/x-python",
      "name": "python",
      "nbconvert_exporter": "python",
      "pygments_lexer": "ipython3",
      "version": "3.7.10"
    },
    "colab": {
      "provenance": [],
      "include_colab_link": true
    }
  },
  "nbformat": 4,
  "nbformat_minor": 5
}