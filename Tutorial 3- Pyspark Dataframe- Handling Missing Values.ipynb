{
  "cells": [
    {
      "cell_type": "markdown",
      "metadata": {
        "id": "view-in-github",
        "colab_type": "text"
      },
      "source": [
        "<a href=\"https://colab.research.google.com/github/Tamilarasee/Pyspark/blob/main/Tutorial%203-%20Pyspark%20Dataframe-%20Handling%20Missing%20Values.ipynb\" target=\"_parent\"><img src=\"https://colab.research.google.com/assets/colab-badge.svg\" alt=\"Open In Colab\"/></a>"
      ]
    },
    {
      "cell_type": "markdown",
      "id": "ded0783b",
      "metadata": {
        "id": "ded0783b"
      },
      "source": [
        "### Pyspark Handling Missing Values\n",
        "- Dropping Columns\n",
        "- Dropping Rows\n",
        "- Various Parameter In Dropping functionalities\n",
        "- Handling Missing values by Mean, MEdian And Mode"
      ]
    },
    {
      "cell_type": "code",
      "execution_count": 1,
      "id": "805e7382",
      "metadata": {
        "id": "805e7382"
      },
      "outputs": [],
      "source": [
        "from pyspark.sql import SparkSession\n",
        "spark=SparkSession.builder.appName('Practise').getOrCreate()"
      ]
    },
    {
      "cell_type": "code",
      "source": [
        "spark.read.csv('test2.csv',header=True,inferSchema=True)"
      ],
      "metadata": {
        "id": "nfmL9QVGmeen",
        "outputId": "3142b90b-9cd7-4d55-f371-7ec5e61398de",
        "colab": {
          "base_uri": "https://localhost:8080/"
        }
      },
      "id": "nfmL9QVGmeen",
      "execution_count": 16,
      "outputs": [
        {
          "output_type": "execute_result",
          "data": {
            "text/plain": [
              "DataFrame[Name: string, age: int, Experience: int, Salary: int]"
            ]
          },
          "metadata": {},
          "execution_count": 16
        }
      ]
    },
    {
      "cell_type": "code",
      "execution_count": 2,
      "id": "e48ebc07",
      "metadata": {
        "id": "e48ebc07"
      },
      "outputs": [],
      "source": [
        "df_pyspark=spark.read.csv('test2.csv',header=True,inferSchema=True)"
      ]
    },
    {
      "cell_type": "code",
      "execution_count": 3,
      "id": "53ab7bbc",
      "metadata": {
        "id": "53ab7bbc",
        "outputId": "87a14df0-3c4a-4632-ff55-959024359988",
        "colab": {
          "base_uri": "https://localhost:8080/"
        }
      },
      "outputs": [
        {
          "output_type": "stream",
          "name": "stdout",
          "text": [
            "root\n",
            " |-- Name: string (nullable = true)\n",
            " |-- age: integer (nullable = true)\n",
            " |-- Experience: integer (nullable = true)\n",
            " |-- Salary: integer (nullable = true)\n",
            "\n"
          ]
        }
      ],
      "source": [
        "df_pyspark.printSchema()"
      ]
    },
    {
      "cell_type": "code",
      "execution_count": 4,
      "id": "ed677b30",
      "metadata": {
        "id": "ed677b30",
        "outputId": "9ca73f29-a49a-4151-860b-8a8bd61938b5",
        "colab": {
          "base_uri": "https://localhost:8080/"
        }
      },
      "outputs": [
        {
          "output_type": "stream",
          "name": "stdout",
          "text": [
            "+---------+----+----------+------+\n",
            "|     Name| age|Experience|Salary|\n",
            "+---------+----+----------+------+\n",
            "|    Krish|  31|        10| 30000|\n",
            "|Sudhanshu|  30|         8| 25000|\n",
            "|    Sunny|  29|         4| 20000|\n",
            "|     Paul|  24|         3| 20000|\n",
            "|   Harsha|  21|         1| 15000|\n",
            "|  Shubham|  23|         2| 18000|\n",
            "|   Mahesh|NULL|      NULL| 40000|\n",
            "|     NULL|  34|        10| 38000|\n",
            "|     NULL|  36|      NULL|  NULL|\n",
            "+---------+----+----------+------+\n",
            "\n"
          ]
        }
      ],
      "source": [
        "df_pyspark.show()"
      ]
    },
    {
      "cell_type": "code",
      "execution_count": 5,
      "id": "523d3c4e",
      "metadata": {
        "id": "523d3c4e",
        "outputId": "d7febd20-1a34-48da-afab-cae96fd5fe0f",
        "colab": {
          "base_uri": "https://localhost:8080/"
        }
      },
      "outputs": [
        {
          "output_type": "stream",
          "name": "stdout",
          "text": [
            "+----+----------+------+\n",
            "| age|Experience|Salary|\n",
            "+----+----------+------+\n",
            "|  31|        10| 30000|\n",
            "|  30|         8| 25000|\n",
            "|  29|         4| 20000|\n",
            "|  24|         3| 20000|\n",
            "|  21|         1| 15000|\n",
            "|  23|         2| 18000|\n",
            "|NULL|      NULL| 40000|\n",
            "|  34|        10| 38000|\n",
            "|  36|      NULL|  NULL|\n",
            "+----+----------+------+\n",
            "\n"
          ]
        }
      ],
      "source": [
        "##drop the columns\n",
        "df_pyspark.drop('Name').show()"
      ]
    },
    {
      "cell_type": "code",
      "execution_count": 6,
      "id": "9c041e07",
      "metadata": {
        "id": "9c041e07",
        "outputId": "56212b73-0917-4b42-a33e-0ea3f7916e84",
        "colab": {
          "base_uri": "https://localhost:8080/"
        }
      },
      "outputs": [
        {
          "output_type": "stream",
          "name": "stdout",
          "text": [
            "+---------+----+----------+------+\n",
            "|     Name| age|Experience|Salary|\n",
            "+---------+----+----------+------+\n",
            "|    Krish|  31|        10| 30000|\n",
            "|Sudhanshu|  30|         8| 25000|\n",
            "|    Sunny|  29|         4| 20000|\n",
            "|     Paul|  24|         3| 20000|\n",
            "|   Harsha|  21|         1| 15000|\n",
            "|  Shubham|  23|         2| 18000|\n",
            "|   Mahesh|NULL|      NULL| 40000|\n",
            "|     NULL|  34|        10| 38000|\n",
            "|     NULL|  36|      NULL|  NULL|\n",
            "+---------+----+----------+------+\n",
            "\n"
          ]
        }
      ],
      "source": [
        "df_pyspark.show()"
      ]
    },
    {
      "cell_type": "code",
      "execution_count": 7,
      "id": "36845e38",
      "metadata": {
        "id": "36845e38",
        "outputId": "025817aa-af2a-40d7-c5c8-bb803810132f",
        "colab": {
          "base_uri": "https://localhost:8080/"
        }
      },
      "outputs": [
        {
          "output_type": "stream",
          "name": "stdout",
          "text": [
            "+---------+---+----------+------+\n",
            "|     Name|age|Experience|Salary|\n",
            "+---------+---+----------+------+\n",
            "|    Krish| 31|        10| 30000|\n",
            "|Sudhanshu| 30|         8| 25000|\n",
            "|    Sunny| 29|         4| 20000|\n",
            "|     Paul| 24|         3| 20000|\n",
            "|   Harsha| 21|         1| 15000|\n",
            "|  Shubham| 23|         2| 18000|\n",
            "+---------+---+----------+------+\n",
            "\n"
          ]
        }
      ],
      "source": [
        "df_pyspark.na.drop().show() # drop rows with null value"
      ]
    },
    {
      "cell_type": "code",
      "execution_count": 8,
      "id": "156e41cf",
      "metadata": {
        "id": "156e41cf",
        "outputId": "c2e8c7e3-4fad-42f9-b4d5-cceb7eb6c908",
        "colab": {
          "base_uri": "https://localhost:8080/"
        }
      },
      "outputs": [
        {
          "output_type": "stream",
          "name": "stdout",
          "text": [
            "+---------+---+----------+------+\n",
            "|     Name|age|Experience|Salary|\n",
            "+---------+---+----------+------+\n",
            "|    Krish| 31|        10| 30000|\n",
            "|Sudhanshu| 30|         8| 25000|\n",
            "|    Sunny| 29|         4| 20000|\n",
            "|     Paul| 24|         3| 20000|\n",
            "|   Harsha| 21|         1| 15000|\n",
            "|  Shubham| 23|         2| 18000|\n",
            "+---------+---+----------+------+\n",
            "\n"
          ]
        }
      ],
      "source": [
        "### any==how\n",
        "df_pyspark.na.drop(how=\"any\").show()"
      ]
    },
    {
      "cell_type": "code",
      "execution_count": 9,
      "id": "e9af0da0",
      "metadata": {
        "id": "e9af0da0",
        "outputId": "7f64cefe-6461-4b3c-9835-2d52b86caebd",
        "colab": {
          "base_uri": "https://localhost:8080/"
        }
      },
      "outputs": [
        {
          "output_type": "stream",
          "name": "stdout",
          "text": [
            "+---------+---+----------+------+\n",
            "|     Name|age|Experience|Salary|\n",
            "+---------+---+----------+------+\n",
            "|    Krish| 31|        10| 30000|\n",
            "|Sudhanshu| 30|         8| 25000|\n",
            "|    Sunny| 29|         4| 20000|\n",
            "|     Paul| 24|         3| 20000|\n",
            "|   Harsha| 21|         1| 15000|\n",
            "|  Shubham| 23|         2| 18000|\n",
            "|     NULL| 34|        10| 38000|\n",
            "+---------+---+----------+------+\n",
            "\n"
          ]
        }
      ],
      "source": [
        "##threshold\n",
        "# drop rows that have less than thresh non-null values.\n",
        "df_pyspark.na.drop(how=\"any\",thresh=3).show()"
      ]
    },
    {
      "cell_type": "code",
      "execution_count": 10,
      "id": "787fc949",
      "metadata": {
        "id": "787fc949",
        "outputId": "2b45dab3-a39d-41e5-a079-63e257023ec3",
        "colab": {
          "base_uri": "https://localhost:8080/"
        }
      },
      "outputs": [
        {
          "output_type": "stream",
          "name": "stdout",
          "text": [
            "+---------+---+----------+------+\n",
            "|     Name|age|Experience|Salary|\n",
            "+---------+---+----------+------+\n",
            "|    Krish| 31|        10| 30000|\n",
            "|Sudhanshu| 30|         8| 25000|\n",
            "|    Sunny| 29|         4| 20000|\n",
            "|     Paul| 24|         3| 20000|\n",
            "|   Harsha| 21|         1| 15000|\n",
            "|  Shubham| 23|         2| 18000|\n",
            "|     NULL| 34|        10| 38000|\n",
            "|     NULL| 36|      NULL|  NULL|\n",
            "+---------+---+----------+------+\n",
            "\n"
          ]
        }
      ],
      "source": [
        "##Subset\n",
        "# remove rows where that subset col val is null\n",
        "df_pyspark.na.drop(how=\"any\",subset=['Age']).show()"
      ]
    },
    {
      "cell_type": "code",
      "execution_count": 11,
      "id": "72bad9ba",
      "metadata": {
        "id": "72bad9ba",
        "outputId": "6fc01fa4-9a95-48ab-ea21-a34e6355cb88",
        "colab": {
          "base_uri": "https://localhost:8080/"
        }
      },
      "outputs": [
        {
          "output_type": "stream",
          "name": "stdout",
          "text": [
            "+---------+----+----------+------+\n",
            "|     Name| age|Experience|Salary|\n",
            "+---------+----+----------+------+\n",
            "|    Krish|  31|        10| 30000|\n",
            "|Sudhanshu|  30|         8| 25000|\n",
            "|    Sunny|  29|         4| 20000|\n",
            "|     Paul|  24|         3| 20000|\n",
            "|   Harsha|  21|         1| 15000|\n",
            "|  Shubham|  23|         2| 18000|\n",
            "|   Mahesh|NULL|      NULL| 40000|\n",
            "|     NULL|  34|        10| 38000|\n",
            "|     NULL|  36|      NULL|  NULL|\n",
            "+---------+----+----------+------+\n",
            "\n"
          ]
        }
      ],
      "source": [
        "### Filling the Missing Value for a particular col or all col if not mentioned\n",
        "df_pyspark.na.fill('Missing Values',['Experience','age']).show()"
      ]
    },
    {
      "cell_type": "code",
      "execution_count": 12,
      "id": "64e01bb9",
      "metadata": {
        "id": "64e01bb9",
        "outputId": "fc055015-3751-4ac6-cc38-0da6888f9319",
        "colab": {
          "base_uri": "https://localhost:8080/"
        }
      },
      "outputs": [
        {
          "output_type": "stream",
          "name": "stdout",
          "text": [
            "+---------+----+----------+------+\n",
            "|     Name| age|Experience|Salary|\n",
            "+---------+----+----------+------+\n",
            "|    Krish|  31|        10| 30000|\n",
            "|Sudhanshu|  30|         8| 25000|\n",
            "|    Sunny|  29|         4| 20000|\n",
            "|     Paul|  24|         3| 20000|\n",
            "|   Harsha|  21|         1| 15000|\n",
            "|  Shubham|  23|         2| 18000|\n",
            "|   Mahesh|NULL|      NULL| 40000|\n",
            "|     NULL|  34|        10| 38000|\n",
            "|     NULL|  36|      NULL|  NULL|\n",
            "+---------+----+----------+------+\n",
            "\n"
          ]
        }
      ],
      "source": [
        "df_pyspark.show()"
      ]
    },
    {
      "cell_type": "code",
      "execution_count": 13,
      "id": "b66832fd",
      "metadata": {
        "id": "b66832fd",
        "outputId": "18e2313e-f720-4670-e191-f56e7ab0dd28",
        "colab": {
          "base_uri": "https://localhost:8080/"
        }
      },
      "outputs": [
        {
          "output_type": "stream",
          "name": "stdout",
          "text": [
            "root\n",
            " |-- Name: string (nullable = true)\n",
            " |-- age: integer (nullable = true)\n",
            " |-- Experience: integer (nullable = true)\n",
            " |-- Salary: integer (nullable = true)\n",
            "\n"
          ]
        }
      ],
      "source": [
        "df_pyspark.printSchema()"
      ]
    },
    {
      "cell_type": "markdown",
      "source": [
        "Telling PySpark which columns have missing values.\n",
        "\n",
        "Asking it to fill those values using the median of each column.\n",
        "\n",
        "Creating new columns with the filled data.\n",
        "\n",
        "Showing the cleaned result."
      ],
      "metadata": {
        "id": "K6f7Dw7uvqP2"
      },
      "id": "K6f7Dw7uvqP2"
    },
    {
      "cell_type": "markdown",
      "source": [
        "imputer ---> “It is just an instance of the class Imputer which handles by default all these manipulations based on its internally written def fns”\n",
        "\n",
        "All the heavy lifting (null detection, median computation, filling) is already implemented inside the class"
      ],
      "metadata": {
        "id": "iAde2Xy5wLOQ"
      },
      "id": "iAde2Xy5wLOQ"
    },
    {
      "cell_type": "code",
      "execution_count": 14,
      "id": "e31190f2",
      "metadata": {
        "id": "e31190f2"
      },
      "outputs": [],
      "source": [
        "from pyspark.ml.feature import Imputer\n",
        "\n",
        "imputer = Imputer(\n",
        "    inputCols=['age', 'Experience', 'Salary'],\n",
        "    outputCols=[\"{}_imputed\".format(c) for c in ['age', 'Experience', 'Salary']]\n",
        "    ).setStrategy(\"median\")"
      ]
    },
    {
      "cell_type": "code",
      "execution_count": 15,
      "id": "d84c4a3d",
      "metadata": {
        "id": "d84c4a3d",
        "outputId": "9466ebf3-b0a4-4987-af7a-4c75e295f4d3",
        "colab": {
          "base_uri": "https://localhost:8080/"
        }
      },
      "outputs": [
        {
          "output_type": "stream",
          "name": "stdout",
          "text": [
            "+---------+----+----------+------+-----------+------------------+--------------+\n",
            "|     Name| age|Experience|Salary|age_imputed|Experience_imputed|Salary_imputed|\n",
            "+---------+----+----------+------+-----------+------------------+--------------+\n",
            "|    Krish|  31|        10| 30000|         31|                10|         30000|\n",
            "|Sudhanshu|  30|         8| 25000|         30|                 8|         25000|\n",
            "|    Sunny|  29|         4| 20000|         29|                 4|         20000|\n",
            "|     Paul|  24|         3| 20000|         24|                 3|         20000|\n",
            "|   Harsha|  21|         1| 15000|         21|                 1|         15000|\n",
            "|  Shubham|  23|         2| 18000|         23|                 2|         18000|\n",
            "|   Mahesh|NULL|      NULL| 40000|         29|                 4|         40000|\n",
            "|     NULL|  34|        10| 38000|         34|                10|         38000|\n",
            "|     NULL|  36|      NULL|  NULL|         36|                 4|         20000|\n",
            "+---------+----+----------+------+-----------+------------------+--------------+\n",
            "\n"
          ]
        }
      ],
      "source": [
        "# Add imputation cols to df\n",
        "imputer.fit(df_pyspark).transform(df_pyspark).show()\n",
        "\n",
        "#fit(df_pyspark): It calculates the median of each column.\n",
        "\n",
        "#transform(df_pyspark): It creates new columns with missing values replaced.\n",
        "\n"
      ]
    },
    {
      "cell_type": "code",
      "execution_count": 15,
      "id": "8cd38651",
      "metadata": {
        "id": "8cd38651"
      },
      "outputs": [],
      "source": []
    },
    {
      "cell_type": "code",
      "execution_count": 15,
      "id": "b63a65ae",
      "metadata": {
        "id": "b63a65ae"
      },
      "outputs": [],
      "source": []
    },
    {
      "cell_type": "code",
      "execution_count": 15,
      "id": "2992b6a2",
      "metadata": {
        "id": "2992b6a2"
      },
      "outputs": [],
      "source": []
    },
    {
      "cell_type": "code",
      "execution_count": 15,
      "id": "d995bc12",
      "metadata": {
        "id": "d995bc12"
      },
      "outputs": [],
      "source": []
    },
    {
      "cell_type": "code",
      "execution_count": 15,
      "id": "c17fd913",
      "metadata": {
        "id": "c17fd913"
      },
      "outputs": [],
      "source": []
    },
    {
      "cell_type": "code",
      "execution_count": 15,
      "id": "cdf76805",
      "metadata": {
        "id": "cdf76805"
      },
      "outputs": [],
      "source": []
    },
    {
      "cell_type": "code",
      "execution_count": 15,
      "id": "835812ae",
      "metadata": {
        "id": "835812ae"
      },
      "outputs": [],
      "source": []
    }
  ],
  "metadata": {
    "kernelspec": {
      "display_name": "Python 3",
      "language": "python",
      "name": "python3"
    },
    "language_info": {
      "codemirror_mode": {
        "name": "ipython",
        "version": 3
      },
      "file_extension": ".py",
      "mimetype": "text/x-python",
      "name": "python",
      "nbconvert_exporter": "python",
      "pygments_lexer": "ipython3",
      "version": "3.7.10"
    },
    "colab": {
      "provenance": [],
      "include_colab_link": true
    }
  },
  "nbformat": 4,
  "nbformat_minor": 5
}